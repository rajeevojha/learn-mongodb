{
 "cells": [
  {
   "cell_type": "markdown",
   "id": "01ac0a6f-8327-4f9c-9f33-0c10df0dca38",
   "metadata": {},
   "source": [
    "# Analyze superstore Data in Jupyter"
   ]
  },
  {
   "cell_type": "code",
   "execution_count": 1,
   "id": "83350b70-6429-41bd-9eae-d86c7593d8ac",
   "metadata": {},
   "outputs": [
    {
     "name": "stdout",
     "output_type": "stream",
     "text": [
      "<class 'pandas.core.frame.DataFrame'>\n",
      "RangeIndex: 9800 entries, 0 to 9799\n",
      "Data columns (total 18 columns):\n",
      " #   Column         Non-Null Count  Dtype  \n",
      "---  ------         --------------  -----  \n",
      " 0   Row ID         9800 non-null   int64  \n",
      " 1   Order ID       9800 non-null   object \n",
      " 2   Order Date     9800 non-null   object \n",
      " 3   Ship Date      9800 non-null   object \n",
      " 4   Ship Mode      9800 non-null   object \n",
      " 5   Customer ID    9800 non-null   object \n",
      " 6   Customer Name  9800 non-null   object \n",
      " 7   Segment        9800 non-null   object \n",
      " 8   Country        9800 non-null   object \n",
      " 9   City           9800 non-null   object \n",
      " 10  State          9800 non-null   object \n",
      " 11  Postal Code    9789 non-null   float64\n",
      " 12  Region         9800 non-null   object \n",
      " 13  Product ID     9800 non-null   object \n",
      " 14  Category       9800 non-null   object \n",
      " 15  Sub-Category   9800 non-null   object \n",
      " 16  Product Name   9800 non-null   object \n",
      " 17  Sales          9800 non-null   float64\n",
      "dtypes: float64(2), int64(1), object(15)\n",
      "memory usage: 1.3+ MB\n"
     ]
    },
    {
     "data": {
      "text/html": [
       "<div>\n",
       "<style scoped>\n",
       "    .dataframe tbody tr th:only-of-type {\n",
       "        vertical-align: middle;\n",
       "    }\n",
       "\n",
       "    .dataframe tbody tr th {\n",
       "        vertical-align: top;\n",
       "    }\n",
       "\n",
       "    .dataframe thead th {\n",
       "        text-align: right;\n",
       "    }\n",
       "</style>\n",
       "<table border=\"1\" class=\"dataframe\">\n",
       "  <thead>\n",
       "    <tr style=\"text-align: right;\">\n",
       "      <th></th>\n",
       "      <th>Row ID</th>\n",
       "      <th>Order ID</th>\n",
       "      <th>Order Date</th>\n",
       "      <th>Ship Date</th>\n",
       "      <th>Ship Mode</th>\n",
       "      <th>Customer ID</th>\n",
       "      <th>Customer Name</th>\n",
       "      <th>Segment</th>\n",
       "      <th>Country</th>\n",
       "      <th>City</th>\n",
       "      <th>State</th>\n",
       "      <th>Postal Code</th>\n",
       "      <th>Region</th>\n",
       "      <th>Product ID</th>\n",
       "      <th>Category</th>\n",
       "      <th>Sub-Category</th>\n",
       "      <th>Product Name</th>\n",
       "      <th>Sales</th>\n",
       "    </tr>\n",
       "  </thead>\n",
       "  <tbody>\n",
       "    <tr>\n",
       "      <th>0</th>\n",
       "      <td>1</td>\n",
       "      <td>CA-2017-152156</td>\n",
       "      <td>08/11/2017</td>\n",
       "      <td>11/11/2017</td>\n",
       "      <td>Second Class</td>\n",
       "      <td>CG-12520</td>\n",
       "      <td>Claire Gute</td>\n",
       "      <td>Consumer</td>\n",
       "      <td>United States</td>\n",
       "      <td>Henderson</td>\n",
       "      <td>Kentucky</td>\n",
       "      <td>42420.0</td>\n",
       "      <td>South</td>\n",
       "      <td>FUR-BO-10001798</td>\n",
       "      <td>Furniture</td>\n",
       "      <td>Bookcases</td>\n",
       "      <td>Bush Somerset Collection Bookcase</td>\n",
       "      <td>261.9600</td>\n",
       "    </tr>\n",
       "    <tr>\n",
       "      <th>1</th>\n",
       "      <td>2</td>\n",
       "      <td>CA-2017-152156</td>\n",
       "      <td>08/11/2017</td>\n",
       "      <td>11/11/2017</td>\n",
       "      <td>Second Class</td>\n",
       "      <td>CG-12520</td>\n",
       "      <td>Claire Gute</td>\n",
       "      <td>Consumer</td>\n",
       "      <td>United States</td>\n",
       "      <td>Henderson</td>\n",
       "      <td>Kentucky</td>\n",
       "      <td>42420.0</td>\n",
       "      <td>South</td>\n",
       "      <td>FUR-CH-10000454</td>\n",
       "      <td>Furniture</td>\n",
       "      <td>Chairs</td>\n",
       "      <td>Hon Deluxe Fabric Upholstered Stacking Chairs,...</td>\n",
       "      <td>731.9400</td>\n",
       "    </tr>\n",
       "    <tr>\n",
       "      <th>2</th>\n",
       "      <td>3</td>\n",
       "      <td>CA-2017-138688</td>\n",
       "      <td>12/06/2017</td>\n",
       "      <td>16/06/2017</td>\n",
       "      <td>Second Class</td>\n",
       "      <td>DV-13045</td>\n",
       "      <td>Darrin Van Huff</td>\n",
       "      <td>Corporate</td>\n",
       "      <td>United States</td>\n",
       "      <td>Los Angeles</td>\n",
       "      <td>California</td>\n",
       "      <td>90036.0</td>\n",
       "      <td>West</td>\n",
       "      <td>OFF-LA-10000240</td>\n",
       "      <td>Office Supplies</td>\n",
       "      <td>Labels</td>\n",
       "      <td>Self-Adhesive Address Labels for Typewriters b...</td>\n",
       "      <td>14.6200</td>\n",
       "    </tr>\n",
       "    <tr>\n",
       "      <th>3</th>\n",
       "      <td>4</td>\n",
       "      <td>US-2016-108966</td>\n",
       "      <td>11/10/2016</td>\n",
       "      <td>18/10/2016</td>\n",
       "      <td>Standard Class</td>\n",
       "      <td>SO-20335</td>\n",
       "      <td>Sean O'Donnell</td>\n",
       "      <td>Consumer</td>\n",
       "      <td>United States</td>\n",
       "      <td>Fort Lauderdale</td>\n",
       "      <td>Florida</td>\n",
       "      <td>33311.0</td>\n",
       "      <td>South</td>\n",
       "      <td>FUR-TA-10000577</td>\n",
       "      <td>Furniture</td>\n",
       "      <td>Tables</td>\n",
       "      <td>Bretford CR4500 Series Slim Rectangular Table</td>\n",
       "      <td>957.5775</td>\n",
       "    </tr>\n",
       "    <tr>\n",
       "      <th>4</th>\n",
       "      <td>5</td>\n",
       "      <td>US-2016-108966</td>\n",
       "      <td>11/10/2016</td>\n",
       "      <td>18/10/2016</td>\n",
       "      <td>Standard Class</td>\n",
       "      <td>SO-20335</td>\n",
       "      <td>Sean O'Donnell</td>\n",
       "      <td>Consumer</td>\n",
       "      <td>United States</td>\n",
       "      <td>Fort Lauderdale</td>\n",
       "      <td>Florida</td>\n",
       "      <td>33311.0</td>\n",
       "      <td>South</td>\n",
       "      <td>OFF-ST-10000760</td>\n",
       "      <td>Office Supplies</td>\n",
       "      <td>Storage</td>\n",
       "      <td>Eldon Fold 'N Roll Cart System</td>\n",
       "      <td>22.3680</td>\n",
       "    </tr>\n",
       "  </tbody>\n",
       "</table>\n",
       "</div>"
      ],
      "text/plain": [
       "   Row ID        Order ID  Order Date   Ship Date       Ship Mode Customer ID  \\\n",
       "0       1  CA-2017-152156  08/11/2017  11/11/2017    Second Class    CG-12520   \n",
       "1       2  CA-2017-152156  08/11/2017  11/11/2017    Second Class    CG-12520   \n",
       "2       3  CA-2017-138688  12/06/2017  16/06/2017    Second Class    DV-13045   \n",
       "3       4  US-2016-108966  11/10/2016  18/10/2016  Standard Class    SO-20335   \n",
       "4       5  US-2016-108966  11/10/2016  18/10/2016  Standard Class    SO-20335   \n",
       "\n",
       "     Customer Name    Segment        Country             City       State  \\\n",
       "0      Claire Gute   Consumer  United States        Henderson    Kentucky   \n",
       "1      Claire Gute   Consumer  United States        Henderson    Kentucky   \n",
       "2  Darrin Van Huff  Corporate  United States      Los Angeles  California   \n",
       "3   Sean O'Donnell   Consumer  United States  Fort Lauderdale     Florida   \n",
       "4   Sean O'Donnell   Consumer  United States  Fort Lauderdale     Florida   \n",
       "\n",
       "   Postal Code Region       Product ID         Category Sub-Category  \\\n",
       "0      42420.0  South  FUR-BO-10001798        Furniture    Bookcases   \n",
       "1      42420.0  South  FUR-CH-10000454        Furniture       Chairs   \n",
       "2      90036.0   West  OFF-LA-10000240  Office Supplies       Labels   \n",
       "3      33311.0  South  FUR-TA-10000577        Furniture       Tables   \n",
       "4      33311.0  South  OFF-ST-10000760  Office Supplies      Storage   \n",
       "\n",
       "                                        Product Name     Sales  \n",
       "0                  Bush Somerset Collection Bookcase  261.9600  \n",
       "1  Hon Deluxe Fabric Upholstered Stacking Chairs,...  731.9400  \n",
       "2  Self-Adhesive Address Labels for Typewriters b...   14.6200  \n",
       "3      Bretford CR4500 Series Slim Rectangular Table  957.5775  \n",
       "4                     Eldon Fold 'N Roll Cart System   22.3680  "
      ]
     },
     "execution_count": 1,
     "metadata": {},
     "output_type": "execute_result"
    }
   ],
   "source": [
    "import pandas as pd\n",
    "import json\n",
    "\n",
    "#load data train.csv from ../data/train.csv\n",
    "df = pd.read_csv(\"../data/train.csv\")\n",
    "# Display basic info\n",
    "df.info()\n",
    "df.head()"
   ]
  },
  {
   "cell_type": "markdown",
   "id": "8dcb98e8-f50d-4958-88a8-6d4ee4a1bcb1",
   "metadata": {},
   "source": [
    "## Analyze Cardinality"
   ]
  },
  {
   "cell_type": "code",
   "execution_count": 2,
   "id": "ea19a6e3-2500-458d-b0de-db53ff0ff135",
   "metadata": {},
   "outputs": [
    {
     "name": "stdout",
     "output_type": "stream",
     "text": [
      "Unique Values and Cardinality:\n",
      "Customer ID: 793 unique values (8.09% cardinality)\n",
      "Region: 4 unique values (0.04% cardinality)\n",
      "Product ID: 1861 unique values (18.99% cardinality)\n",
      "Order ID: 4922 unique values (50.22% cardinality)\n"
     ]
    }
   ],
   "source": [
    "# Check unique values and cardinality\n",
    "print(\"Unique Values and Cardinality:\")\n",
    "for col in [\"Customer ID\", \"Region\", \"Product ID\", \"Order ID\"]:\n",
    "    unique_count = df[col].nunique()\n",
    "    total_count = len(df)\n",
    "    print(f\"{col}: {unique_count} unique values ({unique_count/total_count*100:.2f}% cardinality)\")"
   ]
  },
  {
   "cell_type": "markdown",
   "id": "c289c2f3-365a-411c-b718-68e0c84a093b",
   "metadata": {},
   "source": [
    "- `CustomerID`: High cardinality, good for sharding.\n",
    "- `Region`: Low cardinality, risks hotspots.\n",
    "- `ProductID`: Medium cardinality, viable alternative.\n",
    "- `OrderID`: Too high cardinality, inefficient for sharding."
   ]
  },
  {
   "cell_type": "markdown",
   "id": "406c6b9a-fbd9-4302-93b9-9ec740740e5d",
   "metadata": {},
   "source": [
    "## Analyze Distribution"
   ]
  },
  {
   "cell_type": "code",
   "execution_count": 4,
   "id": "d59b9879-84bf-4ef9-85cb-e5266f2b656e",
   "metadata": {},
   "outputs": [
    {
     "name": "stdout",
     "output_type": "stream",
     "text": [
      "Distribution by Region:\n",
      "Region\n",
      "West       3140\n",
      "East       2785\n",
      "Central    2277\n",
      "South      1598\n",
      "Name: count, dtype: int64\n",
      "\n",
      "Distribution by Customer ID (Top 5):\n",
      "Customer ID\n",
      "WB-21850    35\n",
      "MA-17560    34\n",
      "PP-18955    34\n",
      "JL-15835    33\n",
      "JD-15895    32\n",
      "Name: count, dtype: int64\n",
      "\n",
      "Distribution by Product ID (Top 5):\n",
      "Product ID\n",
      "OFF-PA-10001970    19\n",
      "TEC-AC-10003832    18\n",
      "FUR-FU-10004270    16\n",
      "TEC-AC-10003628    15\n",
      "FUR-CH-10002647    15\n",
      "Name: count, dtype: int64\n"
     ]
    }
   ],
   "source": [
    "# Distribution of key fields\n",
    "print(\"Distribution by Region:\")\n",
    "print(df[\"Region\"].value_counts())\n",
    "print(\"\\nDistribution by Customer ID (Top 5):\")\n",
    "print(df[\"Customer ID\"].value_counts().head())\n",
    "print(\"\\nDistribution by Product ID (Top 5):\")\n",
    "print(df[\"Product ID\"].value_counts().head())"
   ]
  },
  {
   "cell_type": "markdown",
   "id": "be3f080d-88bf-450f-8d23-2dfbeb164386",
   "metadata": {},
   "source": [
    "- `Region`: Skewed (e.g., West dominates), poor shard key.\n",
    "- `CustomerID`: Fairly even distribution, good for sharding.\n",
    "- `ProductID`: Slightly skewed, but usable."
   ]
  },
  {
   "cell_type": "markdown",
   "id": "5ad5e553-c352-4b40-b82a-0f1b225d7bbc",
   "metadata": {},
   "source": [
    "## Analyze Query Patterns"
   ]
  },
  {
   "cell_type": "code",
   "execution_count": 6,
   "id": "713bca16-9a34-47ba-906b-121d9069e4eb",
   "metadata": {},
   "outputs": [
    {
     "name": "stdout",
     "output_type": "stream",
     "text": [
      "Sales by Region:\n",
      "Region\n",
      "West       710219.6845\n",
      "East       669518.7260\n",
      "Central    492646.9132\n",
      "South      389151.4590\n",
      "Name: Sales, dtype: float64\n",
      "\n",
      "Orders per Customer (Top 5):\n",
      "Customer ID\n",
      "WB-21850    35\n",
      "PP-18955    34\n",
      "MA-17560    34\n",
      "JL-15835    33\n",
      "SV-20365    32\n",
      "Name: Order ID, dtype: int64\n",
      "\n",
      "Orders per product (Top 5):\n",
      "Product ID\n",
      "OFF-PA-10001970    19\n",
      "TEC-AC-10003832    18\n",
      "FUR-FU-10004270    16\n",
      "TEC-AC-10003628    15\n",
      "FUR-CH-10002647    15\n",
      "Name: Order ID, dtype: int64\n"
     ]
    }
   ],
   "source": [
    "# Sales by Region\n",
    "print(\"Sales by Region:\")\n",
    "print(df.groupby(\"Region\")[\"Sales\"].sum().sort_values(ascending=False))\n",
    "\n",
    "# Orders per Customer\n",
    "print(\"\\nOrders per Customer (Top 5):\")\n",
    "print(df.groupby(\"Customer ID\")[\"Order ID\"].count().sort_values(ascending=False).head())\n",
    "\n",
    "# Orders per product\n",
    "print(\"\\nOrders per product (Top 5):\")\n",
    "print(df.groupby(\"Product ID\")[\"Order ID\"].count().sort_values(ascending=False).head())"
   ]
  },
  {
   "cell_type": "markdown",
   "id": "32300d29-0e96-4f33-8c41-d934d60905a1",
   "metadata": {},
   "source": [
    "- `Sales by Region`: Common query, but sharding by Region risks uneven shards.\n",
    "- `Orders per Customer` : Frequent customer-specific queries (like who is our best customer analytics) make Customer ID a good choice for data locality.\n",
    "- `Orders per product`: Seems a close second for a shard choice. What is our most bought product?"
   ]
  },
  {
   "cell_type": "markdown",
   "id": "44e53e87-b7c0-4968-a253-025542e6e65c",
   "metadata": {},
   "source": [
    "## Decide on Shard Key\n",
    "- Based on the Jupyter analysis:\n",
    "- Recommended Shard Key: CustomerID (hashed)\n",
    "- Why:\n",
    "    - High Cardinality: ~8% (e.g., ~800 customers in 9800 orders) ensures even distribution across shards.\n",
    "    - Even Distribution: value_counts() shows no single customer dominates, avoiding hotspots.\n",
    "    - Query Efficiency: Customer-specific queries (e.g., orders per customer) are common in Guidewire-like scenarios (policyholder analytics), and sharding by CustomerID localizes data.\n",
    "    - Hashed Index: Randomizes distribution to prevent sequential CustomerID clumping."
   ]
  }
 ],
 "metadata": {
  "kernelspec": {
   "display_name": "Python 3 (ipykernel)",
   "language": "python",
   "name": "python3"
  },
  "language_info": {
   "codemirror_mode": {
    "name": "ipython",
    "version": 3
   },
   "file_extension": ".py",
   "mimetype": "text/x-python",
   "name": "python",
   "nbconvert_exporter": "python",
   "pygments_lexer": "ipython3",
   "version": "3.12.3"
  }
 },
 "nbformat": 4,
 "nbformat_minor": 5
}
